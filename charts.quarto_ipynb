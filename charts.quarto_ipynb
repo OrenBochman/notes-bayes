{
  "cells": [
    {
      "cell_type": "markdown",
      "metadata": {},
      "source": [
        "---\n",
        "title: \"charts\"\n",
        "format:\n",
        "  html:\n",
        "    code-fold: true\n",
        "---\n",
        "\n",
        "```{mermaid}\n",
        "graph LR\n",
        "    A(Binomial Distribution)--$np_0$-->B(Geometric Distribution)\n",
        "    A(Binomial Distribution)-->C(Poisson Distribution)\n",
        "    A(Binomial Distribution)-->D(Normal Distribution)\n",
        "    A(Binomial Distribution)-->E(Bernoulli Distribution)\n",
        "    A(Binomial Distribution)-->F(Beta Distribution)\n",
        "```\n",
        "\n",
        "```{tikz}\n",
        "#| echo: false\n",
        "#| fig-cap: \"Complete pooling\"\n",
        "#| fig-align: center\n",
        "#| fig-ext: svg\n",
        "#| out-width: 100%\n",
        "\\usetikzlibrary{positioning, fit, calc}   \n",
        "\\usepackage{xcolor}\n",
        "\\tikzset{block/.style={draw, thick, text width=2cm , minimum height=1.3cm, align=center},   \n",
        "line/.style={-latex} \n",
        "}\n",
        "\\begin{tikzpicture}  \n",
        "\\node[block, fill=olive] (a) {A};  \n",
        "\\node[block,right=of a, fill=yellow] (b) {B};   \n",
        "\\node[block,right=of b, fill= gray] (c) {C};  \n",
        "\\node[block, fill=purple] (d) at ([yshift=-2cm]$(a)!0.5!(b)$) {D};  \n",
        "\\node[block, fill= orange] (e) at ([yshift=-2cm]$(b)!0.5!(c)$) {E};  \n",
        "\\node[draw, fill=pink, fill opacity=0.5,inner xsep=5mm,inner  \n",
        "     ysep=6mm,fit=(d)(e),label={130:A}](f){}; % here label command is used to label the block, which covers block D and E.  \n",
        "\\draw[line] (a)-- (b);  \n",
        "\\draw[line] (b)-- (c);  \n",
        "\\draw[line] (d)-- (e);  \n",
        "\\draw[line] (e)-- ($(b)!0.5!(c)$);  \n",
        "\\draw[line] (d)-- ($(a)!0.5!(b)$);  \n",
        "\\end{tikzpicture}  \n",
        "```"
      ],
      "id": "003531f1"
    }
  ],
  "metadata": {
    "kernelspec": {
      "name": "python3",
      "language": "python",
      "display_name": "Python 3 (ipykernel)",
      "path": "/home/oren/.local/share/jupyter/kernels/python3"
    }
  },
  "nbformat": 4,
  "nbformat_minor": 5
}