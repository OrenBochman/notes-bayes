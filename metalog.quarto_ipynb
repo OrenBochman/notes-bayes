{
  "cells": [
    {
      "cell_type": "markdown",
      "metadata": {},
      "source": [
        "---\n",
        "title: \"metalog\"\n",
        "author: \"oren bochman\"\n",
        "---"
      ],
      "id": "f629505e"
    },
    {
      "cell_type": "code",
      "metadata": {},
      "source": [
        "A=[]\n",
        "mu = lambda x, A : sum([a*(x-0.5)** n for a,n in enumerate(A) if n in (1,4) or n>4 and mod 2=0])\n",
        "s  = lambda x, A : sum([a*(x-0.5)** n for a,n in enumerate(A) if n in (2,3) or n >4 and mod 2=1])\n",
        "\n",
        "def Q(mu,s,y,A):\n",
        "  mu()"
      ],
      "id": "ea845826",
      "execution_count": null,
      "outputs": []
    },
    {
      "cell_type": "markdown",
      "metadata": {},
      "source": [
        "---"
      ],
      "id": "8a0a3b21"
    }
  ],
  "metadata": {
    "kernelspec": {
      "name": "python3",
      "language": "python",
      "display_name": "Python 3 (ipykernel)",
      "path": "/home/oren/.local/share/jupyter/kernels/python3"
    }
  },
  "nbformat": 4,
  "nbformat_minor": 5
}