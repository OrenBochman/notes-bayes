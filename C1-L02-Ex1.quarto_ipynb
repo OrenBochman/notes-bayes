{
  "cells": [
    {
      "cell_type": "markdown",
      "metadata": {},
      "source": [
        "---\n",
        "title: \"Conditional Probability and Bayes' Law\"\n",
        "subtitle: \"Bayesian Statistics: From Concept to Data Analysis\"\n",
        "categories:\n",
        "  - Bayesian Statistics\n",
        "keywords:\n",
        "  - Conditional Probability\n",
        "  - Bayes' Law\n",
        "  - Homework\n",
        "---\n",
        "\n",
        "\n",
        "## Homework - Conditional Probability and Bayes' Law\n",
        "\n",
        "[Titanic data]{.colum-margin} I put the data from the Titanic for this problem into a .csv file and loaded it into a data frame as follows:\n"
      ],
      "id": "62e4c885"
    },
    {
      "cell_type": "code",
      "metadata": {},
      "source": [
        "import pandas as pd\n",
        "df=pd.read_csv(\"data/titanic.csv\",index_col='class')\n",
        "print(df) "
      ],
      "id": "8cd3fefb",
      "execution_count": null,
      "outputs": []
    },
    {
      "cell_type": "markdown",
      "metadata": {},
      "source": [
        "::: {#exr-cpb-1}\n",
        "[Titanic data]{.colum-margin} If we randomly select a person's name from the complete list of passengers and crew, what is the probability that this person traveled in 1st class? Round your answer to two decimal places.\n",
        ":::\n",
        "\n",
        ":::: {.solution .callout-tip collapse=\"true\"}\n",
        "#### Solution:\n"
      ],
      "id": "9d88a9d8"
    },
    {
      "cell_type": "code",
      "metadata": {},
      "source": [
        "def l02q01(df):\n",
        "    return  round(df.loc[1].sum() / df.values.sum(),2)\n",
        "l02q01(df)"
      ],
      "id": "c42083ea",
      "execution_count": null,
      "outputs": []
    },
    {
      "cell_type": "markdown",
      "metadata": {},
      "source": [
        "::::\n",
        "\n",
        "::: {#exr-cpb-2}\n",
        "[Titanic data]{.colum-margin} What is the probability that a (randomly selected) person survived? Round your answer to two decimal places.\n",
        ":::\n",
        "\n",
        ":::: {.solution .callout-tip collapse=\"true\"}\n",
        "#### Solution:\n"
      ],
      "id": "1e571e10"
    },
    {
      "cell_type": "code",
      "metadata": {},
      "source": [
        "def l02q02(df):\n",
        "    return  round(df.survived.sum() / df.values.sum(),2)\n",
        "\n",
        "l02q02(df)"
      ],
      "id": "04ae7b54",
      "execution_count": null,
      "outputs": []
    },
    {
      "cell_type": "markdown",
      "metadata": {},
      "source": [
        "::::\n",
        "\n",
        "::: {#exr-cpb-3}\n",
        "[Titanic data]{.colum-margin} What is the probability that a (randomly selected) person survived, given that they were in 1st class? Round your answer to two decimal places.\n",
        ":::\n",
        "\n",
        ":::: {.solution .callout-tip collapse=\"true\"}\n",
        "#### Solution:\n"
      ],
      "id": "375358f9"
    },
    {
      "cell_type": "code",
      "metadata": {},
      "source": [
        "def l02q03(df):\n",
        "    return round(\n",
        "        df.loc[1,'survived'].sum() /\n",
        "        df.loc[1,].sum(),\n",
        "        2)\n",
        "\n",
        "l02q03(df)"
      ],
      "id": "5ccf14b8",
      "execution_count": null,
      "outputs": []
    },
    {
      "cell_type": "markdown",
      "metadata": {},
      "source": [
        "::::\n",
        "\n",
        "::: {#exr-cpb-4}\n",
        "[Titanic data]{.colum-margin} True/False: The events concerning class and survival are statistically independent.\n",
        ":::\n",
        "\n",
        ":::: {.solution .callout-tip collapse=\"true\"}\n",
        "#### Solution:\n",
        "\n",
        "False\n",
        "::::\n",
        "\n",
        "[Marbles data]{.colum-margin} You have three bags, labeled A, B, and C. Bag A contains two red marbles and three blue marbles. Bag B contains five red marbles and one blue marble. Bag C contains three red marbles only.\n",
        "\n",
        "again I put the data for this into a CSV file and loaded it as follows\n"
      ],
      "id": "37c27650"
    },
    {
      "cell_type": "code",
      "metadata": {},
      "source": [
        "import pandas as pd\n",
        "\n",
        "mdf=pd.read_csv(\"data/marbles.csv\",index_col='bag')\n",
        "print(mdf) "
      ],
      "id": "09603b37",
      "execution_count": null,
      "outputs": []
    },
    {
      "cell_type": "markdown",
      "metadata": {},
      "source": [
        "::: {#exr-cpb-5}\n",
        "[Marbles data]{.colum-margin} If you select from bag B, what is the probability that you will draw a red marble?\n",
        ":::\n",
        "\n",
        ":::: {.solution .callout-tip collapse=\"true\"}\n",
        "#### Solution:\n"
      ],
      "id": "5ac57c6e"
    },
    {
      "cell_type": "code",
      "metadata": {},
      "source": [
        "def l02q05(df):\n",
        "    p = {}\n",
        "    p['red n b'] = df.loc['b','red'].sum() / df.loc['b',].sum()\n",
        "    \n",
        "    print(f\"p['red n b'] = {df.loc['b','red'].sum()} / {df.loc['b',].sum()} = {p['red n b']}\")        \n",
        "\n",
        "l02q05(mdf)"
      ],
      "id": "30c06eed",
      "execution_count": null,
      "outputs": []
    },
    {
      "cell_type": "markdown",
      "metadata": {},
      "source": [
        "::::\n",
        "\n",
        "::: {#exr-cpb-6}\n",
        "[Marbles data]{.colum-margin} If you randomly select one of the three bags with equal probability, so that $P(A)=P(B)=P(C)=1/3$, and then randomly draw a marble from that bag, what is the probability that the marble will be blue? Round your answer to two decimal places.\n",
        ":::\n",
        "\n",
        "::: {.callout-note collapse=\"true\"}\n",
        "#### Hint\n",
        "\n",
        "This is the marginal probability $P(blue)$. You can obtain this using the `law of total` probability (which appears in the denominator of Bayes' theorem). It is\n",
        "\n",
        "$$\n",
        "\\begin{aligned}\n",
        "    P(blue) &= P(blue \\cap A) + P(blue \\cap B) + P(blue \\cap C) \n",
        "    \\\\      &= P(blue \\mid A) \\cdot P(A)+P(blue \\mid B)\\cdot P(B) + P(blue \\mid C) \\cdot P(C)\n",
        "    \\end{aligned}\n",
        "$$\n",
        ":::\n",
        "\n",
        ":::: {.solution .callout-tip collapse=\"true\"}\n",
        "#### Solution:\n"
      ],
      "id": "4aec2923"
    },
    {
      "cell_type": "code",
      "metadata": {},
      "source": [
        "def l02q06(df):\n",
        "    p = {}\n",
        "    for bag in ['a','b','c']:\n",
        "        p[f'blue|{bag}'] = df.loc[bag,'blue'] / df.loc[bag,].sum() \n",
        "        p[bag] = 1/3\n",
        "        p[f'blue n {bag}'] =  p[f'blue|{bag}'] * p[bag]\n",
        "    return round(p['blue n a'] +  p['blue n b'] +  p['blue n c'],2)  \n",
        "\n",
        "print(f'P(blue)={l02q06(mdf)}')"
      ],
      "id": "9330a6a0",
      "execution_count": null,
      "outputs": []
    },
    {
      "cell_type": "markdown",
      "metadata": {},
      "source": [
        "::::\n",
        "\n",
        "::: {#exr-cpb-7}\n",
        "[Marbles data]{.colum-margin} Suppose a bag is randomly selected (again, with equal probability), but you do not know which it is. You randomly draw a marble and observe that it is blue. What is the probability that the bag you selected this marble from is A? That is, find $P(A∣blue)$.\n",
        ":::\n",
        "\n",
        ":::: {.solution .callout-tip collapse=\"true\"}\n",
        "#### Solution:\n"
      ],
      "id": "f74e5e2f"
    },
    {
      "cell_type": "code",
      "metadata": {},
      "source": [
        "def l02q07(df):\n",
        "    p = {}\n",
        "    for bag in ['a','b','c']:\n",
        "        p[f'blue|{bag}'] = df.loc[bag,'blue'] / df.loc[bag,].sum() \n",
        "        p[bag] = 1/3\n",
        "        p[f'blue n {bag}'] =  p[f'blue|{bag}'] * p[bag]   \n",
        "    p['blue']= p['blue n a'] +  p['blue n b'] +  p['blue n c'] \n",
        "    p['a|blue']=p['blue|a']*p['a']/p['blue']\n",
        "    return p \n",
        "\n",
        "p=l02q07(mdf)\n",
        "print(f\"{p['a|blue']=:1.2f}\")"
      ],
      "id": "f407faea",
      "execution_count": null,
      "outputs": []
    },
    {
      "cell_type": "markdown",
      "metadata": {},
      "source": [
        "::::\n",
        "\n",
        "::: {#exr-cpb-8}\n",
        "[Marbles data]{.colum-margin} Suppose a bag is randomly selected (again, with equal probability), but you do not know which it is. You randomly draw a marble and observe that it is blue. What is the probability that the bag you selected is `C`? That is, find $P(C∣blue)$.\n",
        ":::\n",
        "\n",
        ":::: {.solution .callout-tip collapse=\"true\"}\n",
        "#### Solution:\n"
      ],
      "id": "c723029a"
    },
    {
      "cell_type": "code",
      "metadata": {},
      "source": [
        "def l02q08(df):\n",
        "    p = {}\n",
        "    for bag in ['a','b','c']:\n",
        "        p[f'blue|{bag}'] = df.loc[bag,'blue'] / df.loc[bag,].sum() \n",
        "        p[bag] = 1/3\n",
        "        p[f'blue n {bag}'] =  p[f'blue|{bag}'] * p[bag] \n",
        "    p['blue']= p['blue n a'] +  p['blue n b'] +  p['blue n c'] \n",
        "    p['z|blue']=p['blue|a']*p['a']/p['blue']\n",
        "\n",
        "    p['c|blue']=p['blue|c']*p['c']/p['blue']\n",
        "\n",
        "    return p \n",
        "\n",
        "p=l02q08(mdf)\n",
        "print(f\"{p['c|blue']=:1.2f}\")"
      ],
      "id": "73d4135d",
      "execution_count": null,
      "outputs": []
    },
    {
      "cell_type": "markdown",
      "metadata": {},
      "source": [
        "::::\n",
        "\n",
        "::: {#exr-cpb-9}\n",
        "[Marbles data]{.colum-margin} Suppose a bag is randomly selected (again, with equal probability), but you do not know which it is. You randomly draw a marble and observe that it is red. What is the probability that the bag you selected is C? That is, find $P(C∣red)$.\n",
        ":::\n",
        "\n",
        ":::: {.solution .callout-tip collapse=\"true\"}\n",
        "#### Solution:\n"
      ],
      "id": "5570b9a8"
    },
    {
      "cell_type": "code",
      "metadata": {},
      "source": [
        "def l02q09(df):\n",
        "    p = {}\n",
        "    for bag in ['a','b','c']:\n",
        "        p[f'blue|{bag}'] = df.loc[bag,'blue'] / df.loc[bag,].sum() \n",
        "        p[f'red|{bag}'] = df.loc[bag,'red'] / df.loc[bag,].sum() \n",
        "\n",
        "        p[bag] = 1/3\n",
        "        p[f'blue n {bag}'] =  p[f'blue|{bag}'] * p[bag]\n",
        "        p[f'red n {bag}'] =  p[f'red|{bag}'] * p[bag]\n",
        "\n",
        "    #print(f'{p}')\n",
        "    \n",
        "    p['blue'] = p['blue n a'] +  p['blue n b'] + p['blue n c'] \n",
        "    p['red' ] = p['red n a'] +  p['red n b'] + p['red n c'] \n",
        "    p['z|blue'] = p['blue|a'] * p['a'] / p['blue']\n",
        "    p['c|blue'] = p['blue|c'] * p['c'] / p['blue']\n",
        "    p['c|red' ] = p['red|c']  * p['c'] / p['red']\n",
        "\n",
        "    return p \n",
        "\n",
        "p=l02q09(mdf)\n",
        "print(f\"{p['c|red']=:1.2f}\")"
      ],
      "id": "3b8c02b2",
      "execution_count": null,
      "outputs": []
    },
    {
      "cell_type": "markdown",
      "metadata": {},
      "source": [
        "::::"
      ],
      "id": "ad50c5b8"
    }
  ],
  "metadata": {
    "kernelspec": {
      "name": "python3",
      "language": "python",
      "display_name": "Python 3 (ipykernel)",
      "path": "/home/oren/.local/share/jupyter/kernels/python3"
    }
  },
  "nbformat": 4,
  "nbformat_minor": 5
}